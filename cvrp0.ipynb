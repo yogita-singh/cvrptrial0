{
  "nbformat": 4,
  "nbformat_minor": 0,
  "metadata": {
    "colab": {
      "name": "Untitled3.ipynb",
      "provenance": []
    },
    "kernelspec": {
      "name": "python3",
      "display_name": "Python 3"
    },
    "language_info": {
      "name": "python"
    }
  },
  "cells": [
    {
      "cell_type": "code",
      "metadata": {
        "colab": {
          "base_uri": "https://localhost:8080/",
          "height": 1000
        },
        "id": "5PxG3dUKppP-",
        "outputId": "71f908c0-d7d0-4e0a-b46a-bedc19abcdf1"
      },
      "source": [
        "#pip install qiskit"
      ],
      "execution_count": null,
      "outputs": [
        {
          "output_type": "stream",
          "text": [
            ",
          "name": "stdout"
        },
        {
          "output_type": "display_data",
          "data": {
            "application/vnd.colab-display-data+json": {
              "pip_warning": {
                "packages": [
                  "lxml"
                ]
              }
            }
          },
          "metadata": {
            "tags": []
          }
        }
      ]
    },
    {
      "cell_type": "code",
      "metadata": {
        "colab": {
          "base_uri": "https://localhost:8080/"
        },
        "id": "YcNer54oqSBA",
        "outputId": "8ab82638-784c-490d-8f29-d57079c16957"
      },
      "source": [
        "#pip install dwave-qiskit-plugin"
      ],
      ",
          "name": "stdout"
        }
      ]
    },
    {
      "cell_type": "markdown",
      "metadata": {
        "id": "SSMMjppnrHEg"
      },
      "source": [
        "Full QUBO Solver\n",
        "no. of vehicles = M\n",
        "no. of clients = N\n",
        "no. of depots = N+1\n",
        "cost of moving from node i to node j = Cij \n",
        "\n",
        "\n"
      ]
    },
    {
      "cell_type": "code",
      "metadata": {
        "id": "LIYdV8MVtH-a"
      },
      "source": [
        "import numpy as np\n",
        "import networkx as nx\n",
        "import matplotlib.pyplot as plt\n",
        "\n",
        "from collections import Counter\n",
        "from matplotlib.colors import rgb2hex\n",
        "#from vehicle_routing import VehicleRouter\n",
        "#from qiskit_optimization import QuadraticProgram\n"
      ],
      "execution_count": null,
      "outputs": []
    },
    {
      "cell_type": "code",
      "metadata": {
        "id": "vh5L0ASlFn6D"
      },
      "source": [
        "class VehicleRouter:\n",
        "\n",
        "   \n",
        "    def __init__(self, n_clients, n_vehicles, cost_matrix, **params):\n",
        "\n",
        "        \"\"\"Initializes the VRP by storing all inputs, initializing variables for storing the quadratic structures and\n",
        "        results and calls the rebuild function to build all quadratic structures.\n",
        "        Args:\n",
        "            n_clients: No. of nodes in the problem (excluding the depot).\n",
        "            n_vehicles: No. of vehicles available for delivery.\n",
        "            cost_matrix: (n_clients + 1) x (n_clients + 1) matrix describing the cost of moving from node i to node j.\n",
        "            penalty: Penalty value to use for constraints in the QUBO. Defaults to automatic calculation by qiskit\n",
        "                converters.\n",
        "            chain_strength: Chain strength to be used for D-Wave sampler. Defaults to automatic chain strength\n",
        "                calculation via uniform torque compensation.\n",
        "            num_reads: Number of samples to read. Defaults to 1000.\n",
        "            solver: Select a backend solver. Defaults to 'dwave'.\n",
        "        \"\"\"\n",
        "\n",
        "        # Store critical inputs\n",
        "        self.n = n_clients\n",
        "        self.m = n_vehicles\n",
        "        self.cost = np.array(cost_matrix)\n",
        "\n",
        "        # Extract parameters\n",
        "        self.penalty = params.setdefault('constraint_penalty', None)\n",
        "        self.chain_strength = params.setdefault('chain_strength', partial(uniform_torque_compensation, prefactor=2))\n",
        "        self.num_reads = params.setdefault('num_reads', 10)\n",
        "        self.solver = params.setdefault('solver', 'dwave')\n",
        "\n",
        "       \n",
        "\n",
        "        # Initialize result containers\n",
        "        self.result = None\n",
        "        self.solution = None\n",
        "\n",
        "        # Initialize timer\n",
        "        self.clock = None\n",
        "        self.timing = {}\n",
        "\n",
        "        # Initialize backend\n",
        "        self.backend = SolverBackend(self)\n",
        "\n",
        "        # Build quadratic models\n",
        "        self.rebuild()\n",
        "\n",
        "    def build_quadratic_program(self):\n",
        "\n",
        "        \"\"\"Dummy function to be overriden in child class. Required to set self.variables to contain the names of all\n",
        "        variables in the form of a numpy array and self.qp to contain the quadratic program to be solved.\"\"\"\n",
        "\n",
        "        # Dummy. Override in child class.\n",
        "        pass\n",
        "\n",
        "    def build_bqm(self):\n",
        "\n",
        "        \"\"\"Converts the quadratic program in self.qp to a QUBO by appending all constraints to the objective function\n",
        "        in the form of penalties and then builds a BQM from the QUBO for solving by D-Wave.\"\"\"\n",
        "\n",
        "        # Convert to QUBO\n",
        "        converter = QuadraticProgramToQubo(penalty=self.penalty)\n",
        "        self.qubo = converter.convert(self.qp)\n",
        "\n",
        "        # Extract qubo data\n",
        "        Q = self.qubo.objective.quadratic.to_dict(use_name=True)\n",
        "        g = self.qubo.objective.linear.to_dict(use_name=True)\n",
        "        c = self.qubo.objective.constant\n",
        "\n",
        "        # Build BQM\n",
        "        self.bqm = dimod.BQM(g, Q, c, dimod.BINARY)\n",
        "\n",
        "    \n",
        "    def extract_solution(self, result_dict):\n",
        "\n",
        "        \"\"\"Uses a result dictionary mapping variable names to the solved solution to build the self.solution variable\n",
        "        in the same shape as self.variables and containing the corresponding solutions.\n",
        "        Args:\n",
        "            result_dict: Dictionary mapping variable names to solved values for these variables.\n",
        "        \"\"\"\n",
        "\n",
        "        # Extract solution from result dictionary\n",
        "        var_list = self.variables.reshape(-1)\n",
        "        self.solution = np.zeros(var_list.shape)\n",
        "        for i in range(len(var_list)):\n",
        "            self.solution[i] = result_dict[var_list[i]]\n",
        "\n",
        "        # Reshape result\n",
        "        self.solution = self.solution.reshape(self.variables.shape)\n",
        "\n",
        "    def evaluate_vrp_cost(self):\n",
        "\n",
        "        \"\"\"Evaluate the optimized VRP cost under the optimized solution stored in self.solution.\n",
        "        Returns:\n",
        "            Optimized VRP cost as a float value.\n",
        "        \"\"\"\n",
        "\n",
        "        # Return optimized energy\n",
        "        if type(self.result) == OptimizationResult:\n",
        "            return self.result.fval\n",
        "        else:\n",
        "            return self.result.first.energy\n",
        "\n",
        "    def evaluate_qubo_feasibility(self, data=None):\n",
        "\n",
        "        \"\"\"Evaluates whether the QUBO is feasible under the supplied data as inputs. If this data is not\n",
        "        supplied, the self.solution variable is used instead.\n",
        "        Args:\n",
        "            data: Values of the variables in the solution to be tested. Defaults to self.solution.\n",
        "        Returns:\n",
        "            A 3-tuple containing a boolean value indicating whether the QUBO is feasible or not, a list of variables\n",
        "            that violate constraints, and the list of violated constraints. If feasible, (True, [], []) is returned.\n",
        "        \"\"\"\n",
        "\n",
        "        # Resolve data\n",
        "        if data is None:\n",
        "            data = self.solution.reshape(-1)\n",
        "        else:\n",
        "            data = np.array(data).reshape(-1)\n",
        "\n",
        "        # Get constraint violation data\n",
        "        return self.qp.get_feasibility_info(data)\n",
        "\n",
        "    def solve(self, **params):\n",
        "\n",
        "        \"\"\"Solve the QUBO using the selected solver.\n",
        "        Args:\n",
        "            params: Parameters to send to the selected backend solver. You may also specify the solver to select a\n",
        "                different solver and override the specified self.solver.\n",
        "        \"\"\"\n",
        "\n",
        "        # Resolve solver\n",
        "        params.setdefault('solver', self.solver)\n",
        "\n",
        "        # Solve\n",
        "        self.backend.solve(**params)"
      ],
      "execution_count": 23,
      "outputs": []
    },
    {
      "cell_type": "code",
      "metadata": {
        "id": "ehLtQLSCFiIf"
      },
      "source": [
        "class FullQuboSolver(VehicleRouter):\n",
        "\n",
        "    \"\"\"FQS Solver implementation.\"\"\"\n",
        "\n",
        "    def __init__(self, n_clients, n_vehicles, cost_matrix, **params):\n",
        "\n",
        "        \"\"\"Initializes any required variables and calls init of super class.\"\"\"\n",
        "\n",
        "        # Call parent initializer\n",
        "        super().__init__(n_clients, n_vehicles, cost_matrix, **params)\n",
        "\n",
        "    def build_quadratic_program(self):\n",
        "\n",
        "        \"\"\"Builds the required quadratic program and sets the names of variables in self.variables.\"\"\"\n",
        "\n",
        "        # Initialization\n",
        "        self.qp = QuadraticProgram(name='Vehicle Routing Problem')\n",
        "\n",
        "        # Designate variable names\n",
        "        self.variables = np.array([[['x.{}.{}.{}'.format(i, j, k) for k in range(1, self.n + 1)]\n",
        "                                    for j in range(self.n + 1)] for i in range(1, self.m + 1)])\n",
        "\n",
        "        # Add variables to quadratic program\n",
        "        for var in self.variables.reshape(-1):\n",
        "            self.qp.binary_var(name=var)\n",
        "\n",
        "        # Build objective function\n",
        "        obj_linear_a = {self.variables[m, n, 0]: self.cost[0, n] for m in range(self.m) for n in range(1, self.n + 1)}\n",
        "        obj_linear_b = {self.variables[m, n, -1]: self.cost[n, 0] for m in range(self.m) for n in range(1, self.n + 1)}\n",
        "        obj_quadratic = {(self.variables[m, i, n], self.variables[m, j, n + 1]): self.cost[i, j] for m in range(self.m)\n",
        "                         for n in range(self.n - 1) for i in range(self.n + 1) for j in range(self.n + 1)}\n",
        "\n",
        "        # Add objective to quadratic program\n",
        "        self.qp.minimize(linear=dict(Counter(obj_linear_a) + Counter(obj_linear_b)), quadratic=obj_quadratic)\n",
        "\n",
        "        # Add constraints - single delivery per client\n",
        "        for k in range(1, self.n + 1):\n",
        "            constraint_linear = {self.variables[i, k, j]: 1 for i in range(self.m) for j in range(self.n)}\n",
        "            self.qp.linear_constraint(linear=constraint_linear, sense='==', rhs=1, name=f'single_delivery_{k}')\n",
        "\n",
        "        # Add constraints - vehicle at one place at one time\n",
        "        for m in range(self.m):\n",
        "            for n in range(self.n):\n",
        "                constraint_linear = {self.variables[m, k, n]: 1 for k in range(self.n + 1)}\n",
        "                self.qp.linear_constraint(linear=constraint_linear, sense='==', rhs=1,\n",
        "                                          name=f'single_location_{m + 1}_{n + 1}')\n",
        "\n",
        "    def visualize(self, xc=None, yc=None):\n",
        "\n",
        "        \"\"\"Visualizes solution.\n",
        "        Args:\n",
        "            xc: x coordinates of nodes. Defaults to random values.\n",
        "            yc: y coordinates of nodes. Defaults to random values.\n",
        "        \"\"\"\n",
        "\n",
        "        # Resolve coordinates\n",
        "        if xc is None:\n",
        "            xc = (np.random.rand(self.n + 1) - 0.5) * 10\n",
        "        if yc is None:\n",
        "            yc = (np.random.rand(self.n + 1) - 0.5) * 10\n",
        "\n",
        "        # Initialize figure\n",
        "        plt.figure()\n",
        "        ax = plt.gca()\n",
        "        ax.set_title(f'Vehicle Routing Problem - {self.n} Clients & {self.m} Cars')\n",
        "        cmap = plt.cm.get_cmap('Accent')\n",
        "\n",
        "        # Build graph\n",
        "        G = nx.MultiDiGraph()\n",
        "        G.add_nodes_from(range(self.n + 1))\n",
        "\n",
        "        # Plot nodes\n",
        "        pos = {i: (xc[i], yc[i]) for i in range(self.n + 1)}\n",
        "        labels = {i: str(i) for i in range(self.n + 1)}\n",
        "        nx.draw_networkx_nodes(G, pos=pos, ax=ax, node_color='b', node_size=500, alpha=0.8)\n",
        "        nx.draw_networkx_labels(G, pos=pos, labels=labels, font_size=16)\n",
        "\n",
        "        # Loop over cars\n",
        "        for i in range(self.solution.shape[0]):\n",
        "\n",
        "            # Get route\n",
        "            var_list = np.transpose(self.variables[i]).reshape(-1)\n",
        "            sol_list = np.transpose(self.solution[i]).reshape(-1)\n",
        "            active_vars = [var_list[k] for k in range(len(var_list)) if sol_list[k] == 1]\n",
        "            route = [int(var.split('.')[2]) for var in active_vars]\n",
        "\n",
        "            # Plot edges\n",
        "            edgelist = [(0, route[0])] + [(route[j], route[j + 1]) for j in range(len(route) - 1)] + [(route[-1], 0)]\n",
        "            G.add_edges_from(edgelist)\n",
        "            nx.draw_networkx_edges(G, pos=pos, edgelist=edgelist, width=2, edge_color=rgb2hex(cmap(i)))\n",
        "\n",
        "        # Show plot\n",
        "        plt.grid(True)\n",
        "        plt.show()"
      ],
      "execution_count": null,
      "outputs": []
    },
    {
      "cell_type": "code",
      "metadata": {
        "id": "JuCiocIAEmCJ"
      },
      "source": [
        "class CapcFullQuboSolver(FullQuboSolver):\n",
        "\n",
        "    \"\"\"Capacitated FQS Solver implementation.\"\"\"\n",
        "\n",
        "    def __init__(self, n_clients, n_vehicles, cost_matrix, capacity, demand, **params):\n",
        "\n",
        "        \"\"\"Initializes any required variables and calls init of super class.\"\"\"\n",
        "\n",
        "        # Store capacity data\n",
        "        self.capacity = capacity\n",
        "        self.demand = demand\n",
        "\n",
        "        # Call parent initializer\n",
        "        super().__init__(n_clients, n_vehicles, cost_matrix, **params)\n",
        "\n",
        "    def build_quadratic_program(self):\n",
        "\n",
        "        \"\"\"Builds the required quadratic program and sets the names of variables in self.variables.\"\"\"\n",
        "\n",
        "        # Build quadratic program without capacity\n",
        "        super().build_quadratic_program()\n",
        "\n",
        "        # Add capacity constraints\n",
        "        for i in range(self.m):\n",
        "            constraint = {self.variables[i, j + 1, k]: self.demand[j] for j in range(self.n) for k in range(self.n)}\n",
        "            self.qp.linear_constraint(linear=constraint, sense='<=', rhs=self.capacity[i], name=f'capacity_{i}')"
      ],
      "execution_count": null,
      "outputs": []
    },
    {
      "cell_type": "code",
      "metadata": {
        "id": "euDWAQ8jNkdp"
      },
      "source": [
        ""
      ],
      "execution_count": null,
      "outputs": []
    }
  ]
}
